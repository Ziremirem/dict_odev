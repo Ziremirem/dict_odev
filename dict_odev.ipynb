{
 "cells": [
  {
   "cell_type": "markdown",
   "metadata": {},
   "source": [
    "### Ödev 1\n",
    "\n",
    "Bir sözlük oluşturulur ve bu sözlükte öğrencilerin isimleri ve Matematik, Fizik, Kimya notları tutulur. Kullanıcıdan isim ve ders ismi(Matematik, Fizik, Kimya) istenir ve bu bilgilere göre çıktı verilir."
   ]
  },
  {
   "cell_type": "code",
   "execution_count": 1,
   "metadata": {},
   "outputs": [
    {
     "name": "stdout",
     "output_type": "stream",
     "text": [
      "85\n"
     ]
    }
   ],
   "source": [
    "dictionary = {\"irem\":{\"Matematik\":85,\"Kimya\":74,\"Fizik\":56},\n",
    "              \"Hamdi\":{\"Matematik\":45,\"Kimya\":60,\"Fizik\":56},\n",
    "              \"Latif\":{\"Matematik\":100,\"Kimya\":95,\"Fizik\":56}}\n",
    "isim = input(\"Lütfen isim giriniz:\")\n",
    "ders = input(\"Lütfen dersin adını giriniz:\")\n",
    "print(dictionary[f\"{isim}\"][f\"{ders}\"])\n"
   ]
  },
  {
   "cell_type": "markdown",
   "metadata": {},
   "source": [
    "### Ödev 2\n",
    "\n",
    "Sözlük üzerinde değerleri değiştirme, yeni değer ekleme, kullanıcıya ulaşmak istediği bilgileri sorma gibi uygulamalar yapın."
   ]
  },
  {
   "cell_type": "code",
   "execution_count": 2,
   "metadata": {},
   "outputs": [
    {
     "data": {
      "text/plain": [
       "{'irem': {'Matematik': 85, 'Kimya': 74, 'Fizik': 56},\n",
       " 'Hamdi': {'Matematik': 45, 'Kimya': 60, 'Fizik': 56},\n",
       " 'Latif': {'Matematik': 100, 'Kimya': 95, 'Fizik': 56},\n",
       " 'ali': {'Matematik': 100},\n",
       " 'Mehmet': {'Matematik': 75, 'Fizik': 69, 'Kimya': 85}}"
      ]
     },
     "execution_count": 2,
     "metadata": {},
     "output_type": "execute_result"
    }
   ],
   "source": [
    "#Değer değiştirme#\n",
    "\n",
    "dictionary[\"ali\"] = {\"Matematik\":100}\n",
    "dictionary[\"Mehmet\"] = {\"Matematik\":75,\"Fizik\":69,\"Kimya\":85}\n",
    "dictionary"
   ]
  },
  {
   "cell_type": "code",
   "execution_count": 6,
   "metadata": {},
   "outputs": [
    {
     "name": "stdout",
     "output_type": "stream",
     "text": [
      "Hangi öğrencinin notlarını görmek istersiniz?\n",
      "1.irem\n",
      "2.Hamdi\n",
      "3.Latif\n",
      "4.ali\n",
      "5.Mehmet\n",
      "{'Matematik': 85, 'Kimya': 74, 'Fizik': 56}\n",
      "Çıkmak için 'x'e basınız.\n",
      "Hangi öğrencinin notlarını görmek istersiniz?\n",
      "1.irem\n",
      "2.Hamdi\n",
      "3.Latif\n",
      "4.ali\n",
      "5.Mehmet\n",
      "{'Matematik': 75, 'Fizik': 69, 'Kimya': 85}\n"
     ]
    }
   ],
   "source": [
    "while True:\n",
    "    print(\"Hangi öğrencinin notlarını görmek istersiniz?\" + \"\\n1.irem\" + \n",
    "          \"\\n2.Hamdi\" + \"\\n3.Latif\" + \"\\n4.ali\" + \"\\n5.Mehmet\")\n",
    "    kod = input(\"Kodu giriniz:\")\n",
    "\n",
    "    if kod == '1':\n",
    "        print(str(dictionary[\"irem\"]))\n",
    "    elif kod == '2':\n",
    "        print(str(dictionary[\"Hamdi\"]))\n",
    "    elif kod == '3':\n",
    "        print(str(dictionary[\"Latif\"]))\n",
    "    elif kod == '4':\n",
    "        print(str(dictionary[\"ali\"]))\n",
    "    elif kod == '5':\n",
    "        print(str(dictionary[\"Mehmet\"]))\n",
    "        break\n",
    "    else:\n",
    "        print(\"\\nHatalı bir kod girdiniz!\")\n",
    "    print(\"Çıkmak için 'x'e basınız.\")\n",
    "\n",
    "\n",
    "\n",
    "\n",
    "\n"
   ]
  }
 ],
 "metadata": {
  "kernelspec": {
   "display_name": "Python 3",
   "language": "python",
   "name": "python3"
  },
  "language_info": {
   "codemirror_mode": {
    "name": "ipython",
    "version": 3
   },
   "file_extension": ".py",
   "mimetype": "text/x-python",
   "name": "python",
   "nbconvert_exporter": "python",
   "pygments_lexer": "ipython3",
   "version": "3.9.4"
  }
 },
 "nbformat": 4,
 "nbformat_minor": 2
}
